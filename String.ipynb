{
 "cells": [
  {
   "cell_type": "code",
   "execution_count": 3,
   "id": "a0f1a52c",
   "metadata": {},
   "outputs": [
    {
     "name": "stdout",
     "output_type": "stream",
     "text": [
      "Hello I am Hrishikesh Shelar\n"
     ]
    }
   ],
   "source": [
    "str1='Hello I am Hrishikesh Shelar'\n",
    "print(str1)"
   ]
  },
  {
   "cell_type": "code",
   "execution_count": 4,
   "id": "270d9682",
   "metadata": {},
   "outputs": [
    {
     "data": {
      "text/plain": [
       "28"
      ]
     },
     "execution_count": 4,
     "metadata": {},
     "output_type": "execute_result"
    }
   ],
   "source": [
    "len(str1)"
   ]
  },
  {
   "cell_type": "code",
   "execution_count": 5,
   "id": "ae783b4e",
   "metadata": {},
   "outputs": [
    {
     "name": "stdout",
     "output_type": "stream",
     "text": [
      "My favourite sport is cricket\n"
     ]
    }
   ],
   "source": [
    "str2=\"My favourite sport is cricket\"\n",
    "print(str2)"
   ]
  },
  {
   "cell_type": "code",
   "execution_count": 6,
   "id": "9cb1d23b",
   "metadata": {},
   "outputs": [
    {
     "name": "stdout",
     "output_type": "stream",
     "text": [
      "This is \n",
      "the first\n",
      "multi-line string.\n"
     ]
    }
   ],
   "source": [
    "#Multi line strings must be embed in triple quotes, as shown below.\n",
    "\n",
    "str3='''This is \n",
    "the first\n",
    "multi-line string.'''\n",
    "print(str3)"
   ]
  },
  {
   "cell_type": "code",
   "execution_count": 7,
   "id": "0fdd6d97",
   "metadata": {},
   "outputs": [
    {
     "name": "stdout",
     "output_type": "stream",
     "text": [
      "This is\n",
      "the another \n",
      "Multi-line  \n",
      "string.\n"
     ]
    }
   ],
   "source": [
    "str4=\"\"\"This is\n",
    "the another \n",
    "Multi-line  \n",
    "string.\"\"\"\n",
    "print(str4)"
   ]
  },
  {
   "cell_type": "code",
   "execution_count": 9,
   "id": "72bba72c",
   "metadata": {},
   "outputs": [
    {
     "name": "stdout",
     "output_type": "stream",
     "text": [
      "I have \"two pairs\" of shoes.\n"
     ]
    }
   ],
   "source": [
    "str1='I have \"two pairs\" of shoes.'\n",
    "print(str1)"
   ]
  },
  {
   "cell_type": "code",
   "execution_count": 10,
   "id": "703f03cd",
   "metadata": {},
   "outputs": [
    {
     "name": "stdout",
     "output_type": "stream",
     "text": [
      "Tiger is a 'Carnivorous' animal.\n"
     ]
    }
   ],
   "source": [
    "str2=\"Tiger is a 'Carnivorous' animal.\"\n",
    "print(str2)"
   ]
  },
  {
   "cell_type": "code",
   "execution_count": 12,
   "id": "27a319bd",
   "metadata": {},
   "outputs": [
    {
     "data": {
      "text/plain": [
       "5"
      ]
     },
     "execution_count": 12,
     "metadata": {},
     "output_type": "execute_result"
    }
   ],
   "source": [
    "greet='Hello'\n",
    "len(greet)"
   ]
  },
  {
   "cell_type": "code",
   "execution_count": 19,
   "id": "26444d81",
   "metadata": {},
   "outputs": [
    {
     "data": {
      "text/plain": [
       "'o'"
      ]
     },
     "execution_count": 19,
     "metadata": {},
     "output_type": "execute_result"
    }
   ],
   "source": [
    "#positive indexing\n",
    "hi='hello'\n",
    "hi[4]"
   ]
  },
  {
   "cell_type": "code",
   "execution_count": 20,
   "id": "4cf36cbd",
   "metadata": {},
   "outputs": [
    {
     "data": {
      "text/plain": [
       "'l'"
      ]
     },
     "execution_count": 20,
     "metadata": {},
     "output_type": "execute_result"
    }
   ],
   "source": [
    "#negative indexing\n",
    "A='Hello'\n",
    "A[-3]"
   ]
  },
  {
   "cell_type": "code",
   "execution_count": 21,
   "id": "55609584",
   "metadata": {},
   "outputs": [
    {
     "data": {
      "text/plain": [
       "str"
      ]
     },
     "execution_count": 21,
     "metadata": {},
     "output_type": "execute_result"
    }
   ],
   "source": [
    "HBS='hello'\n",
    "type(HBS)"
   ]
  },
  {
   "cell_type": "code",
   "execution_count": 17,
   "id": "ca8c2342",
   "metadata": {},
   "outputs": [
    {
     "data": {
      "text/plain": [
       "'p'"
      ]
     },
     "execution_count": 17,
     "metadata": {},
     "output_type": "execute_result"
    }
   ],
   "source": [
    "str3=\"My favourite sport is cricket\"\n",
    "str3[-15]"
   ]
  },
  {
   "cell_type": "code",
   "execution_count": 18,
   "id": "eff04419",
   "metadata": {},
   "outputs": [
    {
     "data": {
      "text/plain": [
       "'ello'"
      ]
     },
     "execution_count": 18,
     "metadata": {},
     "output_type": "execute_result"
    }
   ],
   "source": [
    "a='Hello'\n",
    "a[1:5]"
   ]
  },
  {
   "cell_type": "code",
   "execution_count": 23,
   "id": "ad9134d5",
   "metadata": {},
   "outputs": [
    {
     "data": {
      "text/plain": [
       "'My favourite'"
      ]
     },
     "execution_count": 23,
     "metadata": {},
     "output_type": "execute_result"
    }
   ],
   "source": [
    "str3[0:12]"
   ]
  },
  {
   "cell_type": "code",
   "execution_count": 25,
   "id": "93c18920",
   "metadata": {},
   "outputs": [
    {
     "data": {
      "text/plain": [
       "'sport'"
      ]
     },
     "execution_count": 25,
     "metadata": {},
     "output_type": "execute_result"
    }
   ],
   "source": [
    "str3[13:18]"
   ]
  },
  {
   "cell_type": "code",
   "execution_count": 26,
   "id": "81e9f41b",
   "metadata": {},
   "outputs": [
    {
     "data": {
      "text/plain": [
       "''"
      ]
     },
     "execution_count": 26,
     "metadata": {},
     "output_type": "execute_result"
    }
   ],
   "source": [
    "str3[-1:1]"
   ]
  },
  {
   "cell_type": "code",
   "execution_count": 28,
   "id": "8415f108",
   "metadata": {},
   "outputs": [
    {
     "data": {
      "text/plain": [
       "'y favourite sport is cricke'"
      ]
     },
     "execution_count": 28,
     "metadata": {},
     "output_type": "execute_result"
    }
   ],
   "source": [
    "str3[1:-1]"
   ]
  },
  {
   "cell_type": "code",
   "execution_count": 29,
   "id": "a1ba29c1",
   "metadata": {},
   "outputs": [
    {
     "data": {
      "text/plain": [
       "'M aort'"
      ]
     },
     "execution_count": 29,
     "metadata": {},
     "output_type": "execute_result"
    }
   ],
   "source": [
    "str3[0:11:2]"
   ]
  },
  {
   "cell_type": "code",
   "execution_count": 31,
   "id": "063bf0fc",
   "metadata": {},
   "outputs": [
    {
     "data": {
      "text/plain": [
       "28"
      ]
     },
     "execution_count": 31,
     "metadata": {},
     "output_type": "execute_result"
    }
   ],
   "source": [
    "str6='I have \"two pairs\" of shoes.'\n",
    "len(str6)"
   ]
  },
  {
   "cell_type": "code",
   "execution_count": 32,
   "id": "15312b70",
   "metadata": {},
   "outputs": [
    {
     "data": {
      "text/plain": [
       "'.'"
      ]
     },
     "execution_count": 32,
     "metadata": {},
     "output_type": "execute_result"
    }
   ],
   "source": [
    "str6[-1]"
   ]
  },
  {
   "cell_type": "code",
   "execution_count": 34,
   "id": "db371d1b",
   "metadata": {},
   "outputs": [
    {
     "data": {
      "text/plain": [
       "'sosf si'"
      ]
     },
     "execution_count": 34,
     "metadata": {},
     "output_type": "execute_result"
    }
   ],
   "source": [
    "str6[-2:-16:-2]"
   ]
  },
  {
   "cell_type": "code",
   "execution_count": 35,
   "id": "e84b8b8a",
   "metadata": {},
   "outputs": [
    {
     "data": {
      "text/plain": [
       "'my name is hrishikesh'"
      ]
     },
     "execution_count": 35,
     "metadata": {},
     "output_type": "execute_result"
    }
   ],
   "source": [
    "#String function: lower()\n",
    "a=\"My Name is Hrishikesh\"\n",
    "a.lower()"
   ]
  },
  {
   "cell_type": "code",
   "execution_count": 36,
   "id": "e327acd2",
   "metadata": {},
   "outputs": [
    {
     "data": {
      "text/plain": [
       "'MY NAME IS HRISHIKESH'"
      ]
     },
     "execution_count": 36,
     "metadata": {},
     "output_type": "execute_result"
    }
   ],
   "source": [
    "##String function: upper()\n",
    "a.upper()"
   ]
  },
  {
   "cell_type": "code",
   "execution_count": 38,
   "id": "68399f32",
   "metadata": {},
   "outputs": [
    {
     "data": {
      "text/plain": [
       "'My Name Is Hrishikesh'"
      ]
     },
     "execution_count": 38,
     "metadata": {},
     "output_type": "execute_result"
    }
   ],
   "source": [
    "#String function: title()\n",
    "c=\"MY NAME IS HRISHIKESH\"\n",
    "c.title()"
   ]
  },
  {
   "cell_type": "code",
   "execution_count": 40,
   "id": "0cebc6b7",
   "metadata": {},
   "outputs": [
    {
     "data": {
      "text/plain": [
       "'My name is hrishikesh'"
      ]
     },
     "execution_count": 40,
     "metadata": {},
     "output_type": "execute_result"
    }
   ],
   "source": [
    "#String function: capitalize()\n",
    "c.capitalize()"
   ]
  },
  {
   "cell_type": "code",
   "execution_count": null,
   "id": "60b8e711",
   "metadata": {},
   "outputs": [],
   "source": []
  }
 ],
 "metadata": {
  "kernelspec": {
   "display_name": "Python 3 (ipykernel)",
   "language": "python",
   "name": "python3"
  },
  "language_info": {
   "codemirror_mode": {
    "name": "ipython",
    "version": 3
   },
   "file_extension": ".py",
   "mimetype": "text/x-python",
   "name": "python",
   "nbconvert_exporter": "python",
   "pygments_lexer": "ipython3",
   "version": "3.9.7"
  }
 },
 "nbformat": 4,
 "nbformat_minor": 5
}
