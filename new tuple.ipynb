{
 "cells": [
  {
   "cell_type": "code",
   "execution_count": 1,
   "id": "fbc6e2ad",
   "metadata": {},
   "outputs": [
    {
     "name": "stdout",
     "output_type": "stream",
     "text": [
      "(1, 30, 50, 70)\n"
     ]
    }
   ],
   "source": [
    "a=(1,30,50,70)\n",
    "print(a)"
   ]
  },
  {
   "cell_type": "code",
   "execution_count": 3,
   "id": "5db18061",
   "metadata": {},
   "outputs": [
    {
     "name": "stdout",
     "output_type": "stream",
     "text": [
      "('hrishi', 15, 25, True)\n"
     ]
    }
   ],
   "source": [
    "b=(\"hrishi\",15,25,True)\n",
    "print(b)"
   ]
  },
  {
   "cell_type": "code",
   "execution_count": 6,
   "id": "23ca8feb",
   "metadata": {},
   "outputs": [
    {
     "name": "stdout",
     "output_type": "stream",
     "text": [
      "('hrishi', 1, 2, 3.5)\n"
     ]
    }
   ],
   "source": [
    "c=tuple(('hrishi',1,2,3.5))\n",
    "print(c)"
   ]
  },
  {
   "cell_type": "code",
   "execution_count": 7,
   "id": "8de38b46",
   "metadata": {},
   "outputs": [
    {
     "data": {
      "text/plain": [
       "tuple"
      ]
     },
     "execution_count": 7,
     "metadata": {},
     "output_type": "execute_result"
    }
   ],
   "source": [
    "type(c)"
   ]
  },
  {
   "cell_type": "code",
   "execution_count": 13,
   "id": "5e383d54",
   "metadata": {},
   "outputs": [
    {
     "name": "stdout",
     "output_type": "stream",
     "text": [
      "<class 'str'>\n",
      "Hrishi\n"
     ]
    }
   ],
   "source": [
    "single_tuple=('Hrishi')\n",
    "print(type(single_tuple))\n",
    "print(single_tuple)"
   ]
  },
  {
   "cell_type": "code",
   "execution_count": 14,
   "id": "5437f36a",
   "metadata": {},
   "outputs": [
    {
     "name": "stdout",
     "output_type": "stream",
     "text": [
      "<class 'tuple'>\n",
      "('Hrishi',)\n"
     ]
    }
   ],
   "source": [
    "single_tuple1=('Hrishi',)\n",
    "print(type(single_tuple1))\n",
    "print(single_tuple1)"
   ]
  },
  {
   "cell_type": "code",
   "execution_count": 15,
   "id": "e522d7d3",
   "metadata": {},
   "outputs": [
    {
     "name": "stdout",
     "output_type": "stream",
     "text": [
      "('mango', 'apple', 'mango', 'banana')\n"
     ]
    }
   ],
   "source": [
    "tuple3=(\"mango\",\"apple\",\"mango\",\"banana\")\n",
    "print(tuple3)"
   ]
  },
  {
   "cell_type": "code",
   "execution_count": 16,
   "id": "b27a7698",
   "metadata": {},
   "outputs": [
    {
     "name": "stdout",
     "output_type": "stream",
     "text": [
      "5\n"
     ]
    }
   ],
   "source": [
    "tuple=(1,3,5,7,9)\n",
    "print(len(tuple))"
   ]
  },
  {
   "cell_type": "code",
   "execution_count": 17,
   "id": "c6c86e86",
   "metadata": {},
   "outputs": [
    {
     "data": {
      "text/plain": [
       "'orange'"
      ]
     },
     "execution_count": 17,
     "metadata": {},
     "output_type": "execute_result"
    }
   ],
   "source": [
    "a=(\"apple\",\"orange\",\"banana\",\"grapes\",\"watermelon\")\n",
    "a[1]"
   ]
  },
  {
   "cell_type": "code",
   "execution_count": 18,
   "id": "cc9706e3",
   "metadata": {},
   "outputs": [
    {
     "data": {
      "text/plain": [
       "'grapes'"
      ]
     },
     "execution_count": 18,
     "metadata": {},
     "output_type": "execute_result"
    }
   ],
   "source": [
    "a[-2]"
   ]
  },
  {
   "cell_type": "code",
   "execution_count": 21,
   "id": "47ef64bf",
   "metadata": {},
   "outputs": [
    {
     "data": {
      "text/plain": [
       "('orange', 'banana', 'grapes')"
      ]
     },
     "execution_count": 21,
     "metadata": {},
     "output_type": "execute_result"
    }
   ],
   "source": [
    "a[1:4]"
   ]
  },
  {
   "cell_type": "code",
   "execution_count": 24,
   "id": "9ffbf863",
   "metadata": {},
   "outputs": [
    {
     "name": "stdout",
     "output_type": "stream",
     "text": [
      "3\n"
     ]
    }
   ],
   "source": [
    "b=(1,2,4,5,7,8)\n",
    "position=b.index(5)\n",
    "print(position)"
   ]
  },
  {
   "cell_type": "code",
   "execution_count": 25,
   "id": "2c895ad1",
   "metadata": {},
   "outputs": [
    {
     "name": "stdout",
     "output_type": "stream",
     "text": [
      "False\n",
      "True\n"
     ]
    }
   ],
   "source": [
    "tuple=(1,2,3,4,5,6,7,8,9)\n",
    "print(11 in tuple)\n",
    "print(6 in tuple)"
   ]
  },
  {
   "cell_type": "code",
   "execution_count": 34,
   "id": "edadfdbb",
   "metadata": {},
   "outputs": [
    {
     "name": "stdout",
     "output_type": "stream",
     "text": [
      "(10, 20, 30, 40, 50, 1, 2, 3, 4, 5)\n"
     ]
    }
   ],
   "source": [
    "tup1=(10,20,30,40,50)\n",
    "tup2=(1,2,3,4,5)\n",
    "tup3=tup1+tup2\n",
    "print(tup3)"
   ]
  },
  {
   "cell_type": "code",
   "execution_count": null,
   "id": "cce328c3",
   "metadata": {},
   "outputs": [],
   "source": [
    "tup1=(10,20,30,40,50)\n",
    "tup2=(1,2,3,4,5)\n",
    "tup3=sum(tup1,tup2),())\n"
   ]
  }
 ],
 "metadata": {
  "kernelspec": {
   "display_name": "Python 3 (ipykernel)",
   "language": "python",
   "name": "python3"
  },
  "language_info": {
   "codemirror_mode": {
    "name": "ipython",
    "version": 3
   },
   "file_extension": ".py",
   "mimetype": "text/x-python",
   "name": "python",
   "nbconvert_exporter": "python",
   "pygments_lexer": "ipython3",
   "version": "3.9.7"
  }
 },
 "nbformat": 4,
 "nbformat_minor": 5
}
