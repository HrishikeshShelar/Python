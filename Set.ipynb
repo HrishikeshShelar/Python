{
 "cells": [
  {
   "cell_type": "markdown",
   "id": "fe242fca",
   "metadata": {},
   "source": [
    "# Set"
   ]
  },
  {
   "cell_type": "code",
   "execution_count": 1,
   "id": "1723c549",
   "metadata": {},
   "outputs": [
    {
     "name": "stdout",
     "output_type": "stream",
     "text": [
      "{2, 3, 4, 5, 6, 7}\n"
     ]
    }
   ],
   "source": [
    "set={2,3,4,5,6,7}\n",
    "print(set)"
   ]
  },
  {
   "cell_type": "code",
   "execution_count": 2,
   "id": "d7bf4115",
   "metadata": {},
   "outputs": [
    {
     "name": "stdout",
     "output_type": "stream",
     "text": [
      "{'hrishi', 25, 35, 15}\n"
     ]
    }
   ],
   "source": [
    "sample_set={\"hrishi\",15,25,35}\n",
    "print(sample_set)"
   ]
  },
  {
   "cell_type": "code",
   "execution_count": 7,
   "id": "b5fb7fd0",
   "metadata": {},
   "outputs": [
    {
     "data": {
      "text/plain": [
       "set"
      ]
     },
     "execution_count": 7,
     "metadata": {},
     "output_type": "execute_result"
    }
   ],
   "source": [
    "type(sample_set)"
   ]
  },
  {
   "cell_type": "code",
   "execution_count": 8,
   "id": "c89e415b",
   "metadata": {},
   "outputs": [
    {
     "data": {
      "text/plain": [
       "5"
      ]
     },
     "execution_count": 8,
     "metadata": {},
     "output_type": "execute_result"
    }
   ],
   "source": [
    "set1={10,20,30,40,50}\n",
    "len(set1)"
   ]
  },
  {
   "cell_type": "code",
   "execution_count": 10,
   "id": "20c79bc0",
   "metadata": {},
   "outputs": [
    {
     "name": "stdout",
     "output_type": "stream",
     "text": [
      "{'banana', 'Mango', 'orange', 'cherry'}\n"
     ]
    }
   ],
   "source": [
    "set2={\"Mango\",\"banana\",\"cherry\"}\n",
    "set2.add(\"orange\")\n",
    "print(set2)"
   ]
  },
  {
   "cell_type": "code",
   "execution_count": 15,
   "id": "26dd45d4",
   "metadata": {},
   "outputs": [
    {
     "name": "stdout",
     "output_type": "stream",
     "text": [
      "{'watermelon', 'orange', 'banana', 'Mango', 'cherry'}\n"
     ]
    }
   ],
   "source": [
    "set2={\"Mango\",\"banana\",\"cherry\"}\n",
    "set2.update(['watermelon','orange'])\n",
    "print(set2)"
   ]
  },
  {
   "cell_type": "code",
   "execution_count": 17,
   "id": "fe48981f",
   "metadata": {},
   "outputs": [
    {
     "name": "stdout",
     "output_type": "stream",
     "text": [
      "{'banana', 'grape', 'cherry', 'papaya', 'watermelon', 'orange'}\n"
     ]
    }
   ],
   "source": [
    "a={'grape','banana','papaya'}\n",
    "b={'watermelon','cherry','orange'}\n",
    "a.update(b)\n",
    "print(a)"
   ]
  },
  {
   "cell_type": "code",
   "execution_count": 18,
   "id": "35bdbc61",
   "metadata": {},
   "outputs": [
    {
     "name": "stdout",
     "output_type": "stream",
     "text": [
      "{'yellow', 'white', 'green'}\n"
     ]
    }
   ],
   "source": [
    "# remove method\n",
    "color_set={'green','black','white','yellow'}\n",
    "\n",
    "# remove single item\n",
    "color_set.remove('black')\n",
    "print(color_set)"
   ]
  },
  {
   "cell_type": "code",
   "execution_count": 19,
   "id": "a8387b0d",
   "metadata": {},
   "outputs": [
    {
     "name": "stdout",
     "output_type": "stream",
     "text": [
      "{'yellow', 'white'}\n"
     ]
    }
   ],
   "source": [
    "# discard method\n",
    "color_set.discard('green')\n",
    "print(color_set)"
   ]
  },
  {
   "cell_type": "code",
   "execution_count": 20,
   "id": "4398496f",
   "metadata": {},
   "outputs": [
    {
     "name": "stdout",
     "output_type": "stream",
     "text": [
      "yellow\n"
     ]
    }
   ],
   "source": [
    "# pop method\n",
    "# remove  any random item from a set\n",
    "\n",
    "deleted_item=color_set.pop()\n",
    "print(deleted_item)"
   ]
  },
  {
   "cell_type": "code",
   "execution_count": 21,
   "id": "2b0ff004",
   "metadata": {},
   "outputs": [
    {
     "name": "stdout",
     "output_type": "stream",
     "text": [
      "set()\n"
     ]
    }
   ],
   "source": [
    "# remove all item\n",
    "color_set1={'green','black','white','yellow'}\n",
    "color_set1.clear()\n",
    "print(color_set1)"
   ]
  },
  {
   "cell_type": "code",
   "execution_count": 22,
   "id": "fb90ab06",
   "metadata": {},
   "outputs": [
    {
     "name": "stdout",
     "output_type": "stream",
     "text": [
      "{'black', 'blue', 'white', 'red', 'grey'}\n"
     ]
    }
   ],
   "source": [
    "color_set3={'grey','black','white','red','blue'}\n",
    "print(color_set3)"
   ]
  },
  {
   "cell_type": "code",
   "execution_count": 23,
   "id": "e1e87697",
   "metadata": {},
   "outputs": [
    {
     "ename": "NameError",
     "evalue": "name 'color_set' is not defined",
     "output_type": "error",
     "traceback": [
      "\u001b[1;31m---------------------------------------------------------------------------\u001b[0m",
      "\u001b[1;31mNameError\u001b[0m                                 Traceback (most recent call last)",
      "\u001b[1;32m~\\AppData\\Local\\Temp/ipykernel_7796/1927633263.py\u001b[0m in \u001b[0;36m<module>\u001b[1;34m\u001b[0m\n\u001b[0;32m      1\u001b[0m \u001b[1;32mdel\u001b[0m \u001b[0mcolor_set\u001b[0m\u001b[1;33m\u001b[0m\u001b[1;33m\u001b[0m\u001b[0m\n\u001b[1;32m----> 2\u001b[1;33m \u001b[0mprint\u001b[0m\u001b[1;33m(\u001b[0m\u001b[0mcolor_set\u001b[0m\u001b[1;33m)\u001b[0m\u001b[1;33m\u001b[0m\u001b[1;33m\u001b[0m\u001b[0m\n\u001b[0m",
      "\u001b[1;31mNameError\u001b[0m: name 'color_set' is not defined"
     ]
    }
   ],
   "source": [
    "del color_set\n",
    "print(color_set)"
   ]
  },
  {
   "cell_type": "code",
   "execution_count": 24,
   "id": "587266b4",
   "metadata": {},
   "outputs": [
    {
     "name": "stdout",
     "output_type": "stream",
     "text": [
      "{'black', 'green', 'violet', 'blue', 'red', 'indigo'}\n"
     ]
    }
   ],
   "source": [
    "# union\n",
    "color_set={'violet','indigo','blue','red'}\n",
    "remaining_colors={'black','green'}\n",
    "# union of two set using OR operator\n",
    "a=color_set | remaining_colors\n",
    "print(a)"
   ]
  },
  {
   "cell_type": "code",
   "execution_count": 25,
   "id": "399b48d9",
   "metadata": {},
   "outputs": [
    {
     "name": "stdout",
     "output_type": "stream",
     "text": [
      "{'green'}\n"
     ]
    }
   ],
   "source": [
    "# intersection\n",
    "color_set={'violet','indigo','blue','red','green'}\n",
    "remaining_colors={'black','green'}\n",
    "# intersection of two set\n",
    "new_set=color_set & remaining_colors\n",
    "print(new_set)"
   ]
  },
  {
   "cell_type": "code",
   "execution_count": 28,
   "id": "47a17445",
   "metadata": {},
   "outputs": [
    {
     "name": "stdout",
     "output_type": "stream",
     "text": [
      "{'red', 'violet', 'blue', 'indigo'}\n",
      "{'red', 'violet', 'blue', 'indigo'}\n"
     ]
    }
   ],
   "source": [
    "color_set={'violet','indigo','blue','red','green'}\n",
    "remaining_colors={'black','green','orange'}\n",
    "#difference using '-' operator\n",
    "print(color_set-remaining_colors)\n",
    "#using difference() method\n",
    "print(color_set.difference(remaining_colors))"
   ]
  },
  {
   "cell_type": "code",
   "execution_count": 29,
   "id": "22f3b3ed",
   "metadata": {},
   "outputs": [
    {
     "name": "stdout",
     "output_type": "stream",
     "text": [
      "{'black', 'green', 'violet', 'red', 'indigo'}\n",
      "{'black', 'green', 'violet', 'red', 'indigo'}\n"
     ]
    }
   ],
   "source": [
    "# Symmetric difference\n",
    "color_set={'violet','green','yellow','red'}\n",
    "remaining_colors={'indigo','black','yellow'}\n",
    "\n",
    "#symmetric diiference using ^ operator\n",
    "unique_items=color_set^remaining_colors\n",
    "print(unique_items)\n",
    "\n",
    "#using symmetric difference()\n",
    "unique_item2=color_set.symmetric_difference(remaining_colors)\n",
    "print(unique_item2)\n"
   ]
  },
  {
   "cell_type": "code",
   "execution_count": 31,
   "id": "2cb9d4f9",
   "metadata": {},
   "outputs": [
    {
     "name": "stdout",
     "output_type": "stream",
     "text": [
      "False\n",
      "True\n"
     ]
    }
   ],
   "source": [
    "set1={'violet','green','yellow','red','black','indigo'}\n",
    "set2={'indigo','black','yellow'}\n",
    "\n",
    "#subset\n",
    "print(set1.issubset(set2))\n",
    "print(set2.issubset(set1))"
   ]
  },
  {
   "cell_type": "code",
   "execution_count": 32,
   "id": "17352db9",
   "metadata": {},
   "outputs": [
    {
     "name": "stdout",
     "output_type": "stream",
     "text": [
      "False\n"
     ]
    }
   ],
   "source": [
    "# disjoint\n",
    "print(set1.isdisjoint(set2))"
   ]
  },
  {
   "cell_type": "code",
   "execution_count": 34,
   "id": "2aa8260e",
   "metadata": {},
   "outputs": [
    {
     "name": "stdout",
     "output_type": "stream",
     "text": [
      "True\n",
      "False\n",
      "True\n",
      "True\n"
     ]
    }
   ],
   "source": [
    "set1={1,2,3,4}\n",
    "set2={True,False,1}\n",
    "print(all(set1))\n",
    "print(all(set2))\n",
    "print(any(set1))\n",
    "print(any(set2))"
   ]
  },
  {
   "cell_type": "code",
   "execution_count": 36,
   "id": "18746378",
   "metadata": {},
   "outputs": [
    {
     "name": "stdout",
     "output_type": "stream",
     "text": [
      "35\n",
      "xyz\n",
      "4\n",
      "abc\n"
     ]
    }
   ],
   "source": [
    "set1={4,15,35,9,12}\n",
    "set2={\"abc\",'xyz'}\n",
    "\n",
    "print(max(set1))\n",
    "print(max(set2))\n",
    "print(min(set1))\n",
    "print(min(set2))"
   ]
  },
  {
   "cell_type": "code",
   "execution_count": null,
   "id": "3af96ba9",
   "metadata": {},
   "outputs": [],
   "source": []
  }
 ],
 "metadata": {
  "kernelspec": {
   "display_name": "Python 3 (ipykernel)",
   "language": "python",
   "name": "python3"
  },
  "language_info": {
   "codemirror_mode": {
    "name": "ipython",
    "version": 3
   },
   "file_extension": ".py",
   "mimetype": "text/x-python",
   "name": "python",
   "nbconvert_exporter": "python",
   "pygments_lexer": "ipython3",
   "version": "3.9.7"
  }
 },
 "nbformat": 4,
 "nbformat_minor": 5
}
