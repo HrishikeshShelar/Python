{
 "cells": [
  {
   "cell_type": "code",
   "execution_count": 1,
   "id": "f8384a7a",
   "metadata": {},
   "outputs": [
    {
     "name": "stdout",
     "output_type": "stream",
     "text": [
      "Roll No is: 36\n",
      "<class 'int'>\n",
      "29\n",
      "<class 'int'>\n"
     ]
    }
   ],
   "source": [
    "roll_no=36\n",
    "#display roll no\n",
    "print(\"Roll No is:\", roll_no) # 36\n",
    "print(type(roll_no))  # class 'int'\n",
    "\n",
    "# create integer using int() class\n",
    "id= int(29)\n",
    "print(id)  # 29\n",
    "print(type(id))"
   ]
  },
  {
   "cell_type": "code",
   "execution_count": 2,
   "id": "5b49cc86",
   "metadata": {},
   "outputs": [
    {
     "name": "stdout",
     "output_type": "stream",
     "text": [
      "<class 'float'>\n",
      "<class 'int'>\n"
     ]
    }
   ],
   "source": [
    "#data types\n",
    "x=2.2222\n",
    "y=22\n",
    "print(type(x))\n",
    "print(type(y))"
   ]
  },
  {
   "cell_type": "code",
   "execution_count": 3,
   "id": "d97492d1",
   "metadata": {},
   "outputs": [
    {
     "data": {
      "text/plain": [
       "(1+0j)"
      ]
     },
     "execution_count": 3,
     "metadata": {},
     "output_type": "execute_result"
    }
   ],
   "source": [
    "complex(1)"
   ]
  },
  {
   "cell_type": "code",
   "execution_count": 4,
   "id": "fe68d760",
   "metadata": {},
   "outputs": [
    {
     "data": {
      "text/plain": [
       "(1-4j)"
      ]
     },
     "execution_count": 4,
     "metadata": {},
     "output_type": "execute_result"
    }
   ],
   "source": [
    "complex(1,-4)"
   ]
  },
  {
   "cell_type": "code",
   "execution_count": 6,
   "id": "9536490f",
   "metadata": {},
   "outputs": [
    {
     "name": "stdout",
     "output_type": "stream",
     "text": [
      "4.0\n",
      "3\n",
      "(4+0j)\n",
      "<class 'float'>\n",
      "<class 'int'>\n",
      "<class 'complex'>\n"
     ]
    }
   ],
   "source": [
    "x=4   #int\n",
    "y=3.5  #float\n",
    "z=2j   #complex\n",
    "\n",
    "#convert from int to float:\n",
    "a=float(x)\n",
    "\n",
    "#convert from float t int:\n",
    "b=int(y)\n",
    "\n",
    "#convert from int t complex:\n",
    "c=complex(x)\n",
    "\n",
    "print(a)\n",
    "print(b)\n",
    "print(c)\n",
    "\n",
    "print(type(a))\n",
    "print(type(b))\n",
    "print(type(c))\n",
    "\n"
   ]
  },
  {
   "cell_type": "code",
   "execution_count": 7,
   "id": "96d20d11",
   "metadata": {},
   "outputs": [
    {
     "name": "stdout",
     "output_type": "stream",
     "text": [
      "in binary form:: 0b11110\n",
      "in octal form:: 0o36\n",
      "in hexadecimal form:: 0x1e\n"
     ]
    }
   ],
   "source": [
    "i=30\n",
    "print(\"in binary form::\", bin(i))\n",
    "print(\"in octal form::\", oct(i))\n",
    "print(\"in hexadecimal form::\", hex(i))"
   ]
  },
  {
   "cell_type": "code",
   "execution_count": 8,
   "id": "da13be18",
   "metadata": {},
   "outputs": [
    {
     "name": "stdout",
     "output_type": "stream",
     "text": [
      "<class 'int'>\n",
      "<class 'float'>\n",
      "<class 'float'>\n"
     ]
    }
   ],
   "source": [
    "x=33\n",
    "y=2.25\n",
    "\n",
    "#data in int and float\n",
    "print(type(x))\n",
    "print(type(y))\n",
    "\n",
    "#addition\n",
    "z=x+y\n",
    "\n",
    "#type after addition\n",
    "print(type(z))"
   ]
  },
  {
   "cell_type": "code",
   "execution_count": 10,
   "id": "b3351f20",
   "metadata": {},
   "outputs": [
    {
     "data": {
      "text/plain": [
       "55"
      ]
     },
     "execution_count": 10,
     "metadata": {},
     "output_type": "execute_result"
    }
   ],
   "source": [
    "int(55.125)"
   ]
  },
  {
   "cell_type": "code",
   "execution_count": 11,
   "id": "4491c3b8",
   "metadata": {},
   "outputs": [
    {
     "data": {
      "text/plain": [
       "25"
      ]
     },
     "execution_count": 11,
     "metadata": {},
     "output_type": "execute_result"
    }
   ],
   "source": [
    "int(\"25\")"
   ]
  },
  {
   "cell_type": "code",
   "execution_count": 13,
   "id": "0ecdd4c9",
   "metadata": {},
   "outputs": [
    {
     "name": "stdout",
     "output_type": "stream",
     "text": [
      "Mango75\n"
     ]
    }
   ],
   "source": [
    "#concatenating int and str types\n",
    "a=75\n",
    "b=\"Mango\"\n",
    "print(b+str(a))"
   ]
  },
  {
   "cell_type": "code",
   "execution_count": 15,
   "id": "d50e045b",
   "metadata": {},
   "outputs": [
    {
     "name": "stdout",
     "output_type": "stream",
     "text": [
      "7\n"
     ]
    }
   ],
   "source": [
    "import random\n",
    "\n",
    "# prints a random value from the list\n",
    "list1=[1,2,3,4,5,6,7,8,9]\n",
    "print(random.choice(list1))"
   ]
  },
  {
   "cell_type": "code",
   "execution_count": 18,
   "id": "9309c789",
   "metadata": {},
   "outputs": [
    {
     "name": "stdout",
     "output_type": "stream",
     "text": [
      "A random number from range is : 6\n"
     ]
    }
   ],
   "source": [
    "print(\"A random number from range is : \", end=\"\")\n",
    "print(random.choice([3,6,9,12]))"
   ]
  },
  {
   "cell_type": "code",
   "execution_count": 25,
   "id": "5c6bde52",
   "metadata": {},
   "outputs": [
    {
     "name": "stdout",
     "output_type": "stream",
     "text": [
      "A random number from range is : 3\n"
     ]
    }
   ],
   "source": [
    "print(\"A random number from range is : \", end=\"\")\n",
    "print(random.randrange(3,6,9))"
   ]
  },
  {
   "cell_type": "code",
   "execution_count": null,
   "id": "7798b14f",
   "metadata": {},
   "outputs": [],
   "source": []
  }
 ],
 "metadata": {
  "kernelspec": {
   "display_name": "Python 3 (ipykernel)",
   "language": "python",
   "name": "python3"
  },
  "language_info": {
   "codemirror_mode": {
    "name": "ipython",
    "version": 3
   },
   "file_extension": ".py",
   "mimetype": "text/x-python",
   "name": "python",
   "nbconvert_exporter": "python",
   "pygments_lexer": "ipython3",
   "version": "3.9.7"
  }
 },
 "nbformat": 4,
 "nbformat_minor": 5
}
